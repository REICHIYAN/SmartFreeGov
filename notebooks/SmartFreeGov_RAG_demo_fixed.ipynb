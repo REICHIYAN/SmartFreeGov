{
 "cells": [
  {
   "cell_type": "markdown",
   "id": "49dcf320",
   "metadata": {
    "id": "49dcf320"
   },
   "source": [
    "# 🏛️ SmartFreeGov - RAG FAQ Demo\n",
    "\n",
    "BigQuery + GPT-4 による行政FAQ自動応答デモです。"
   ]
  },
  {
   "cell_type": "code",
   "execution_count": null,
   "id": "e2281c86",
   "metadata": {
    "id": "e2281c86"
   },
   "outputs": [],
   "source": [
    "# ✅ 必要ライブラリのインストール（最初の1回だけ）\n",
    "!pip install openai google-cloud-bigquery python-dotenv"
   ]
  },
  {
   "cell_type": "code",
   "execution_count": null,
   "id": "4142af79",
   "metadata": {
    "id": "4142af79"
   },
   "outputs": [],
   "source": [
    "import os\n",
    "\n",
    "# APIキーは手入力（セキュア）\n",
    "OPENAI_API_KEY = input(\"🔑 OpenAI APIキーを入力してください（表示されます）: \")\n",
    "os.environ[\"OPENAI_API_KEY\"] = OPENAI_API_KEY\n",
    "\n",
    "# プロジェクト情報はユーザーに任せる\n",
    "os.environ['BQ_PROJECT_ID'] = input(\"🧠 BigQueryプロジェクトIDを入力してください: \")\n",
    "os.environ['BQ_DATASET_ID'] = input(\"📦 データセットIDを入力してください: \")\n",
    "os.environ['BQ_TABLE_NAME'] = input(\"📄 テーブル名を入力してください: \")"
   ]
  },
  {
   "cell_type": "code",
   "execution_count": null,
   "id": "98426c46",
   "metadata": {
    "id": "98426c46"
   },
   "outputs": [],
   "source": [
    "# ✅ GPT呼び出し関数（v1対応）\n",
    "from openai import OpenAI\n",
    "\n",
    "def call_chatgpt(prompt):\n",
    "    client = OpenAI(api_key=os.environ['OPENAI_API_KEY'])\n",
    "    response = client.chat.completions.create(\n",
    "        model=\"gpt-4\",\n",
    "        messages=[\n",
    "            {\"role\": \"system\", \"content\": \"あなたは行政FAQのアシスタントです。\"},\n",
    "            {\"role\": \"user\", \"content\": prompt}\n",
    "        ],\n",
    "        temperature=0.2\n",
    "    )\n",
    "    return response.choices[0].message.content.strip()"
   ]
  },
  {
   "cell_type": "code",
   "execution_count": null,
   "id": "b0f352ae",
   "metadata": {
    "id": "b0f352ae"
   },
   "outputs": [],
   "source": [
    "# 🔰 手元で作成したサービスアカウントJSONをアップロード\n",
    "from google.colab import files\n",
    "uploaded = files.upload()  # ambient-empire-xyz.json をアップ\n",
    "\n",
    "# 🔑 認証ファイルを指定してBigQueryクライアントを作成\n",
    "import os\n",
    "os.environ[\"GOOGLE_APPLICATION_CREDENTIALS\"] = \"/content/your_key.json\"\n",
    "\n",
    "from google.cloud import bigquery\n",
    "client = bigquery.Client()"
   ]
  },
  {
   "cell_type": "code",
   "execution_count": null,
   "id": "6959a76a",
   "metadata": {
    "id": "6959a76a"
   },
   "outputs": [],
   "source": [
    "# ✅ BigQuery クライアント作成＋検索＋cosine類似度計算\n",
    "from google.cloud import bigquery\n",
    "import numpy as np\n",
    "import ast\n",
    "\n",
    "client = bigquery.Client(project=os.environ['BQ_PROJECT_ID'])\n",
    "full_table = f\"{os.environ['BQ_PROJECT_ID']}.{os.environ['BQ_DATASET_ID']}.{os.environ['BQ_TABLE_NAME']}\"\n",
    "query = f\"SELECT question, answer, embedding FROM `{full_table}`\"\n",
    "rows = client.query(query).result()\n",
    "\n",
    "user_query = \"パスワードを変更したい\"\n",
    "user_embedding = np.random.rand(384)\n",
    "\n",
    "def cosine_similarity(vec1, vec2):\n",
    "    vec1 = np.array(vec1)\n",
    "    vec2 = np.array(vec2)\n",
    "    return float(np.dot(vec1, vec2) / (np.linalg.norm(vec1) * np.linalg.norm(vec2)))\n",
    "\n",
    "results = []\n",
    "for row in rows:\n",
    "    emb = row['embedding']\n",
    "    if isinstance(emb, str):\n",
    "        emb = ast.literal_eval(emb)\n",
    "    score = cosine_similarity(user_embedding, emb)\n",
    "    results.append((score, row['question'], row['answer']))\n",
    "\n",
    "results.sort(reverse=True)\n",
    "top_3 = results[:3]"
   ]
  },
  {
   "cell_type": "code",
   "execution_count": null,
   "id": "bb129472",
   "metadata": {
    "id": "bb129472"
   },
   "outputs": [],
   "source": [
    "# ✅ プロンプト生成\n",
    "prompt = \"あなたはFAQに詳しい市役所のAI案内係です。\\n以下は過去の類似質問とその回答です。参考にして、できるだけ簡潔に質問に答えてください。\\n\\n<FAQ>\\n\"\n",
    "for i, (_, q, a) in enumerate(top_3, 1):\n",
    "    prompt += f\"Q{i}: {q}\\nA{i}: {a}\\n\\n\"\n",
    "prompt += \"</FAQ>\\n\\nQ: \" + user_query + \"\\nA:\"\n",
    "print(prompt)"
   ]
  },
  {
   "cell_type": "code",
   "execution_count": null,
   "id": "90f27a7d",
   "metadata": {
    "id": "90f27a7d"
   },
   "outputs": [],
   "source": [
    "# ✅ 回答生成\n",
    "answer = call_chatgpt(prompt)\n",
    "print(\"\\n===== 回答 =====\\n\", answer)"
   ]
  }
 ],
 "metadata": {
  "accelerator": "GPU",
  "colab": {
   "gpuType": "L4",
   "machine_shape": "hm",
   "provenance": [
    {
     "file_id": "1tcDhMD1OHs8mp7tn6sb4P5WCcPuNko3-",
     "timestamp": 1751808122112
    }
   ]
  },
  "kernelspec": {
   "display_name": "Python 3",
   "name": "python3"
  },
  "language_info": {
   "name": "python"
  }
 },
 "nbformat": 4,
 "nbformat_minor": 5
}
